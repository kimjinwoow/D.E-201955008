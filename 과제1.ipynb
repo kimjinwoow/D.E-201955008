{
 "cells": [
  {
   "cell_type": "code",
   "execution_count": 2,
   "id": "651a54d7-69b9-40ad-b468-918077fa8b6a",
   "metadata": {},
   "outputs": [],
   "source": [
    "#1\n",
    "lovely_loveseat_description = \"\"\"Lovely Loveseat. Tufted polyester blend on wood. 32 inches high x 40 inches wide x 30 inches deep. Red or white.\"\"\""
   ]
  },
  {
   "cell_type": "code",
   "execution_count": 3,
   "id": "d3c9e11c-85c2-4b50-922e-b8e64c8891ef",
   "metadata": {},
   "outputs": [],
   "source": [
    "#2\n",
    "lovely_loveseat_price = 254.00"
   ]
  },
  {
   "cell_type": "code",
   "execution_count": 5,
   "id": "a0e57377-1559-493d-ae01-bdfad35d97f7",
   "metadata": {},
   "outputs": [],
   "source": [
    "#3\n",
    "stylish_settee_description = \"\"\"Stylish Settee. Faux leather on birch. 29.50 inches high x 54.75 inches wide x 28 inches deep. Black.\"\"\""
   ]
  },
  {
   "cell_type": "code",
   "execution_count": 6,
   "id": "d714a709-fd49-4e8b-a3a2-82cafa659174",
   "metadata": {},
   "outputs": [],
   "source": [
    "#4\n",
    "stylish_settee_price = 180.50"
   ]
  },
  {
   "cell_type": "code",
   "execution_count": 7,
   "id": "220b8c9e-008f-4652-b7c1-4e7d0506d159",
   "metadata": {},
   "outputs": [],
   "source": [
    "#5\n",
    "luxurious_lamp_description = \"\"\"Luxurious Lamp. Glass and iron. 36 inches tall. Brown with cream shade.\"\"\""
   ]
  },
  {
   "cell_type": "code",
   "execution_count": 9,
   "id": "208e46b6-375c-47d9-9bad-8526182ddc55",
   "metadata": {},
   "outputs": [],
   "source": [
    "#6\n",
    "luxurious_lamp_price = 52.15"
   ]
  },
  {
   "cell_type": "code",
   "execution_count": 10,
   "id": "90930fb3-2f39-46d3-aa50-e084127227a6",
   "metadata": {},
   "outputs": [],
   "source": [
    "#7\n",
    "sales_tax = .088"
   ]
  },
  {
   "cell_type": "code",
   "execution_count": 11,
   "id": "8fcb75b7-1538-403b-bc4f-e3063c1ed9d6",
   "metadata": {},
   "outputs": [],
   "source": [
    "#8\n",
    "customer_one_total = 0\n",
    "#9\n",
    "customer_one_itemization = \"\"\n",
    "#10\n",
    "customer_one_total += lovely_loveseat_price\n",
    "#11\n",
    "customer_one_itemization += lovely_loveseat_description\n",
    "#12\n",
    "customer_one_total += luxurious_lamp_price\n",
    "#13\n",
    "customer_one_itemization += luxurious_lamp_description"
   ]
  },
  {
   "cell_type": "code",
   "execution_count": 12,
   "id": "caec436a-4e4f-4ad4-b592-bd6781dd04b2",
   "metadata": {},
   "outputs": [],
   "source": [
    "#14\n",
    "customer_one_tax = customer_one_total*sales_tax\n",
    "#15\n",
    "customer_one_total += customer_one_tax"
   ]
  },
  {
   "cell_type": "code",
   "execution_count": 13,
   "id": "2cd46171-3d40-49e2-b1d3-10bb86b3ba28",
   "metadata": {},
   "outputs": [
    {
     "name": "stdout",
     "output_type": "stream",
     "text": [
      "Customer One Items:\n",
      "Lovely Loveseat. Tufted polyester blend on wood. 32 inches high x 40 inches wide x 30 inches deep. Red or white.Luxurious Lamp. Glass and iron. 36 inches tall. Brown with cream shade.\n",
      "Customer One Total:\n",
      "333.09119999999996\n"
     ]
    }
   ],
   "source": [
    "#16\n",
    "print(\"Customer One Items:\")\n",
    "#17\n",
    "print(customer_one_itemization)\n",
    "#18\n",
    "print(\"Customer One Total:\")\n",
    "#19\n",
    "print(customer_one_total)"
   ]
  }
 ],
 "metadata": {
  "kernelspec": {
   "display_name": "Python 3 (ipykernel)",
   "language": "python",
   "name": "python3"
  },
  "language_info": {
   "codemirror_mode": {
    "name": "ipython",
    "version": 3
   },
   "file_extension": ".py",
   "mimetype": "text/x-python",
   "name": "python",
   "nbconvert_exporter": "python",
   "pygments_lexer": "ipython3",
   "version": "3.9.12"
  }
 },
 "nbformat": 4,
 "nbformat_minor": 5
}
