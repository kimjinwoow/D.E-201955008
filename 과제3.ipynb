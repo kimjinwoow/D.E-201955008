{
 "cells": [
  {
   "cell_type": "code",
   "execution_count": 20,
   "id": "2d27bf72",
   "metadata": {},
   "outputs": [],
   "source": [
    "import numpy as np"
   ]
  },
  {
   "cell_type": "code",
   "execution_count": 21,
   "id": "68a74b19-7fe2-4ef1-9385-a4b201e65e10",
   "metadata": {},
   "outputs": [],
   "source": [
    "hairstyles = np.array([\"bouffant\", \"pixie\", \"dreadlocks\", \"crew\", \"bowl\", \"bob\", \"mohawk\", \"flattop\"])\n",
    "prices = np.array([30, 25, 40, 20, 20, 35, 50, 35])\n",
    "last_week = np.array([2, 3, 5, 8, 4, 4, 6, 2])"
   ]
  },
  {
   "cell_type": "code",
   "execution_count": 30,
   "id": "4c6e2257-8695-478e-a166-8789af15f57d",
   "metadata": {},
   "outputs": [
    {
     "name": "stdout",
     "output_type": "stream",
     "text": [
      "Average_price is 31.875\n"
     ]
    }
   ],
   "source": [
    "#1\n",
    "total_price = 0\n",
    "\n",
    "#2\n",
    "for i in range(len(prices)):\n",
    "    total_price += prices[i]\n",
    "\n",
    "#3\n",
    "average_price = total_price/len(prices)\n",
    "\n",
    "#4\n",
    "print(\"Average_price is\",average_price)"
   ]
  },
  {
   "cell_type": "code",
   "execution_count": 27,
   "id": "1c35ed6c-4813-4010-a31e-5cd3fd4f5478",
   "metadata": {},
   "outputs": [
    {
     "name": "stdout",
     "output_type": "stream",
     "text": [
      "[25 20 35 15 15 30 45 30]\n"
     ]
    }
   ],
   "source": [
    "#5\n",
    "new_prices = prices-5\n",
    "#6\n",
    "print(new_prices)"
   ]
  },
  {
   "cell_type": "code",
   "execution_count": 38,
   "id": "14ed6602-b861-43c4-bf8e-4159c1a854d1",
   "metadata": {},
   "outputs": [
    {
     "name": "stdout",
     "output_type": "stream",
     "text": [
      "1085\n",
      "Average daily revenue is 155.0\n"
     ]
    }
   ],
   "source": [
    "#7\n",
    "total_revenue = 0\n",
    "\n",
    "#8\n",
    "for i in range(len(hairstyles)):\n",
    "    #9\n",
    "    total_revenue += prices[i] * last_week[i]\n",
    "\n",
    "#10\n",
    "print(total_revenue)\n",
    "\n",
    "#11\n",
    "average_daily_revenue = total_revenu/7\n",
    "\n",
    "print(\"Average daily revenue is\",average_daily_revenue)"
   ]
  },
  {
   "cell_type": "code",
   "execution_count": 39,
   "id": "49bbb04b-f4e4-40c8-974d-1cd6b5b97d1d",
   "metadata": {},
   "outputs": [
    {
     "name": "stdout",
     "output_type": "stream",
     "text": [
      "['bouffant', 'pixie', 'crew', 'bowl']\n"
     ]
    }
   ],
   "source": [
    "#12\n",
    "cut_under_30 = [hairstyles[i] for i in range(len(new_prices)-1)\n",
    "                if new_prices[i] < 30]\n",
    "\n",
    "#13\n",
    "print(cut_under_30)"
   ]
  }
 ],
 "metadata": {
  "kernelspec": {
   "display_name": "Python 3 (ipykernel)",
   "language": "python",
   "name": "python3"
  },
  "language_info": {
   "codemirror_mode": {
    "name": "ipython",
    "version": 3
   },
   "file_extension": ".py",
   "mimetype": "text/x-python",
   "name": "python",
   "nbconvert_exporter": "python",
   "pygments_lexer": "ipython3",
   "version": "3.9.12"
  }
 },
 "nbformat": 4,
 "nbformat_minor": 5
}
