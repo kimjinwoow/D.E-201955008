{
 "cells": [
  {
   "cell_type": "code",
   "execution_count": 15,
   "id": "0c922b8c",
   "metadata": {},
   "outputs": [
    {
     "name": "stdout",
     "output_type": "stream",
     "text": [
      "['쌍', '쇠', '복', '돌', '팽', '육', '쌍', '개', '칠', '갑', '삼', '방']\n",
      "['봉', '구', '욕', '포', '똥', '삼', '식', '석', '놈', '님', '년', '돌', '단', '득', '방', '질', '장', '걸', '래', '룡', '동', '순', '자', '박', '창', '언', '것', '포', '만', '단', '국']\n"
     ]
    }
   ],
   "source": [
    "#1\n",
    "name1 = ['쌍', '쇠', '복', '돌', '팽', '육', '쌍', '개', '칠', '갑', '삼', '방']\n",
    "print(month)\n",
    "\n",
    "#2\n",
    "name2 = ['봉', '구', '욕', '포', '똥', '삼', '식', '석', '놈', '님', '년', '돌', '단', '득', '방', '질', '장', '걸', '래', '룡', '동', '순', '자', '박', '창', '언', '것', '포', '만', '단', '국']\n",
    "print(day)"
   ]
  },
  {
   "cell_type": "code",
   "execution_count": 16,
   "id": "2865e873-aa86-4c44-ad0f-b5f49d4cd12b",
   "metadata": {},
   "outputs": [],
   "source": [
    "# 3\n",
    "def get_my_chosun_name(family_name, month, day):\n",
    "    chosun_name = family_name + name1[month - 1] + name2[day - 1]\n",
    "    print(\"당신의 조선시대 이름은\", chosun_name, \"입니다.\")"
   ]
  },
  {
   "cell_type": "code",
   "execution_count": 17,
   "id": "aac5b603-f987-43b3-9d0f-0245e0e80296",
   "metadata": {},
   "outputs": [
    {
     "name": "stdout",
     "output_type": "stream",
     "text": [
      "당신의 조선시대 이름은 김쌍포 입니다.\n"
     ]
    }
   ],
   "source": [
    "# 4\n",
    "get_my_chosun_name('김', 7, 28)"
   ]
  },
  {
   "cell_type": "code",
   "execution_count": null,
   "id": "4cfbcaf2-d2a2-4df1-b46d-b00a35fc202d",
   "metadata": {},
   "outputs": [],
   "source": []
  }
 ],
 "metadata": {
  "kernelspec": {
   "display_name": "Python 3 (ipykernel)",
   "language": "python",
   "name": "python3"
  },
  "language_info": {
   "codemirror_mode": {
    "name": "ipython",
    "version": 3
   },
   "file_extension": ".py",
   "mimetype": "text/x-python",
   "name": "python",
   "nbconvert_exporter": "python",
   "pygments_lexer": "ipython3",
   "version": "3.9.12"
  }
 },
 "nbformat": 4,
 "nbformat_minor": 5
}
